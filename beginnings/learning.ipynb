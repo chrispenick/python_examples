{
 "cells": [
  {
   "cell_type": "code",
   "execution_count": 10,
   "metadata": {},
   "outputs": [],
   "source": [
    "favorites = ['mint oreo', 'strawberry', 'peanut butter cup', 'coffee oreo', 'moose tracks']"
   ]
  },
  {
   "cell_type": "code",
   "execution_count": 11,
   "metadata": {},
   "outputs": [
    {
     "data": {
      "text/plain": [
       "list"
      ]
     },
     "execution_count": 11,
     "metadata": {},
     "output_type": "execute_result"
    }
   ],
   "source": [
    "type(favorites)"
   ]
  },
  {
   "cell_type": "code",
   "execution_count": 12,
   "metadata": {},
   "outputs": [
    {
     "data": {
      "text/plain": [
       "['__add__',\n",
       " '__class__',\n",
       " '__class_getitem__',\n",
       " '__contains__',\n",
       " '__delattr__',\n",
       " '__delitem__',\n",
       " '__dir__',\n",
       " '__doc__',\n",
       " '__eq__',\n",
       " '__format__',\n",
       " '__ge__',\n",
       " '__getattribute__',\n",
       " '__getitem__',\n",
       " '__getstate__',\n",
       " '__gt__',\n",
       " '__hash__',\n",
       " '__iadd__',\n",
       " '__imul__',\n",
       " '__init__',\n",
       " '__init_subclass__',\n",
       " '__iter__',\n",
       " '__le__',\n",
       " '__len__',\n",
       " '__lt__',\n",
       " '__mul__',\n",
       " '__ne__',\n",
       " '__new__',\n",
       " '__reduce__',\n",
       " '__reduce_ex__',\n",
       " '__repr__',\n",
       " '__reversed__',\n",
       " '__rmul__',\n",
       " '__setattr__',\n",
       " '__setitem__',\n",
       " '__sizeof__',\n",
       " '__str__',\n",
       " '__subclasshook__',\n",
       " 'append',\n",
       " 'clear',\n",
       " 'copy',\n",
       " 'count',\n",
       " 'extend',\n",
       " 'index',\n",
       " 'insert',\n",
       " 'pop',\n",
       " 'remove',\n",
       " 'reverse',\n",
       " 'sort']"
      ]
     },
     "execution_count": 12,
     "metadata": {},
     "output_type": "execute_result"
    }
   ],
   "source": [
    "dir(favorites)"
   ]
  },
  {
   "cell_type": "code",
   "execution_count": 13,
   "metadata": {},
   "outputs": [
    {
     "data": {
      "text/plain": [
       "['coffee oreo', 'mint oreo', 'moose tracks', 'peanut butter cup', 'strawberry']"
      ]
     },
     "execution_count": 13,
     "metadata": {},
     "output_type": "execute_result"
    }
   ],
   "source": [
    "favorites.sort()\n",
    "favorites"
   ]
  },
  {
   "cell_type": "code",
   "execution_count": 14,
   "metadata": {},
   "outputs": [
    {
     "name": "stdout",
     "output_type": "stream",
     "text": [
      "Help on built-in function sort:\n",
      "\n",
      "sort(*, key=None, reverse=False) method of builtins.list instance\n",
      "    Sort the list in ascending order and return None.\n",
      "\n",
      "    The sort is in-place (i.e. the list itself is modified) and stable (i.e. the\n",
      "    order of two equal elements is maintained).\n",
      "\n",
      "    If a key function is given, apply it once to each list item and sort them,\n",
      "    ascending or descending, according to their function values.\n",
      "\n",
      "    The reverse flag can be set to sort in descending order.\n",
      "\n"
     ]
    }
   ],
   "source": [
    "help(favorites.sort)"
   ]
  },
  {
   "cell_type": "code",
   "execution_count": 15,
   "metadata": {},
   "outputs": [
    {
     "data": {
      "text/plain": [
       "['strawberry', 'peanut butter cup', 'moose tracks', 'mint oreo', 'coffee oreo']"
      ]
     },
     "execution_count": 15,
     "metadata": {},
     "output_type": "execute_result"
    }
   ],
   "source": [
    "favorites.sort(reverse = True)\n",
    "favorites"
   ]
  },
  {
   "cell_type": "code",
   "execution_count": 16,
   "metadata": {},
   "outputs": [],
   "source": [
    "x = 3.1415\n",
    "y = 32\n",
    "z = 20"
   ]
  },
  {
   "cell_type": "code",
   "execution_count": 17,
   "metadata": {},
   "outputs": [
    {
     "data": {
      "text/plain": [
       "35.1415"
      ]
     },
     "execution_count": 17,
     "metadata": {},
     "output_type": "execute_result"
    }
   ],
   "source": [
    "x + y"
   ]
  },
  {
   "cell_type": "code",
   "execution_count": 18,
   "metadata": {},
   "outputs": [
    {
     "data": {
      "text/plain": [
       "-28.8585"
      ]
     },
     "execution_count": 18,
     "metadata": {},
     "output_type": "execute_result"
    }
   ],
   "source": [
    "x - y"
   ]
  },
  {
   "cell_type": "code",
   "execution_count": 19,
   "metadata": {},
   "outputs": [
    {
     "data": {
      "text/plain": [
       "100.528"
      ]
     },
     "execution_count": 19,
     "metadata": {},
     "output_type": "execute_result"
    }
   ],
   "source": [
    "x * y"
   ]
  },
  {
   "cell_type": "code",
   "execution_count": 20,
   "metadata": {},
   "outputs": [
    {
     "data": {
      "text/plain": [
       "0.098171875"
      ]
     },
     "execution_count": 20,
     "metadata": {},
     "output_type": "execute_result"
    }
   ],
   "source": [
    "x / y"
   ]
  },
  {
   "cell_type": "code",
   "execution_count": 21,
   "metadata": {},
   "outputs": [],
   "source": [
    "a, b = 6, 7\n"
   ]
  },
  {
   "cell_type": "code",
   "execution_count": 22,
   "metadata": {},
   "outputs": [
    {
     "data": {
      "text/plain": [
       "1.1666666666666667"
      ]
     },
     "execution_count": 22,
     "metadata": {},
     "output_type": "execute_result"
    }
   ],
   "source": [
    "b / a"
   ]
  },
  {
   "cell_type": "code",
   "execution_count": 23,
   "metadata": {},
   "outputs": [
    {
     "data": {
      "text/plain": [
       "1"
      ]
     },
     "execution_count": 23,
     "metadata": {},
     "output_type": "execute_result"
    }
   ],
   "source": [
    "b // a"
   ]
  },
  {
   "cell_type": "code",
   "execution_count": 1,
   "metadata": {},
   "outputs": [
    {
     "name": "stdout",
     "output_type": "stream",
     "text": [
      "\n",
      "Please wait a moment while I gather a list of all available modules...\n",
      "\n",
      "test_sqlite3: testing with SQLite version 3.49.1\n",
      "IPython             abc                 linecache           stringprep\n",
      "PIL                 adodbapi            locale              struct\n",
      "__future__          afxres              logging             subprocess\n",
      "__hello__           antigravity         lzma                symtable\n",
      "__phello__          argparse            mailbox             sys\n",
      "_abc                array               markupsafe          sysconfig\n",
      "_aix_support        ast                 marshal             tabnanny\n",
      "_android_support    asttokens           math                tarfile\n",
      "_apple_support      asyncio             matplotlib          tempfile\n",
      "_ast                atexit              matplotlib_inline   test\n",
      "_asyncio            base64              mimetypes           textwrap\n",
      "_bisect             bdb                 mmap                this\n",
      "_blake2             binascii            mmapfile            threading\n",
      "_bz2                bisect              mmsystem            threadpoolctl\n",
      "_codecs             blinker             modulefinder        time\n",
      "_codecs_cn          builtins            msvcrt              timeit\n",
      "_codecs_hk          bz2                 multiprocessing     timer\n",
      "_codecs_iso2022     cProfile            nest_asyncio        tkinter\n",
      "_codecs_jp          calendar            netbios             token\n",
      "_codecs_kr          click               netrc               tokenize\n",
      "_codecs_tw          cmath               nt                  tomllib\n",
      "_collections        cmd                 ntpath              tornado\n",
      "_collections_abc    code                ntsecuritycon       trace\n",
      "_colorize           codecs              nturl2path          traceback\n",
      "_compat_pickle      codeop              numbers             tracemalloc\n",
      "_compression        collections         numpy               traitlets\n",
      "_contextvars        colorama            odbc                tty\n",
      "_csv                colorsys            opcode              turtle\n",
      "_ctypes             comm                operator            turtledemo\n",
      "_ctypes_test        commctrl            optparse            types\n",
      "_datetime           compileall          os                  typing\n",
      "_decimal            concurrent          packaging           tzdata\n",
      "_elementtree        configparser        pandas              unicodedata\n",
      "_functools          contextlib          parso               unittest\n",
      "_hashlib            contextvars         pathlib             urllib\n",
      "_heapq              contourpy           pdb                 uuid\n",
      "_imp                copy                perfmon             venv\n",
      "_interpchannels     copyreg             pickle              warnings\n",
      "_interpqueues       cramjam             pickletools         wave\n",
      "_interpreters       csv                 pip                 wcwidth\n",
      "_io                 ctypes              pkgutil             weakref\n",
      "_ios_support        curses              platform            webbrowser\n",
      "_json               cycler              platformdirs        werkzeug\n",
      "_locale             dataclasses         plistlib            win2kras\n",
      "_lsprof             datetime            poplib              win32api\n",
      "_lzma               dateutil            posixpath           win32clipboard\n",
      "_markupbase         dbm                 pprint              win32com\n",
      "_md5                dde                 profile             win32con\n",
      "_multibytecodec     debugpy             prompt_toolkit      win32console\n",
      "_multiprocessing    decimal             pstats              win32cred\n",
      "_opcode             decorator           psutil              win32crypt\n",
      "_opcode_metadata    difflib             pty                 win32cryptcon\n",
      "_operator           dis                 pure_eval           win32event\n",
      "_osx_support        doctest             py_compile          win32evtlog\n",
      "_overlapped         email               pyarrow             win32evtlogutil\n",
      "_pickle             encodings           pyclbr              win32file\n",
      "_py_abc             ensurepip           pydoc               win32gui\n",
      "_pydatetime         enum                pydoc_data          win32gui_struct\n",
      "_pydecimal          errno               pyexpat             win32help\n",
      "_pyio               executing           pygments            win32inet\n",
      "_pylong             fastparquet         pylab               win32inetcon\n",
      "_pyrepl             faulthandler        pyparsing           win32job\n",
      "_queue              filecmp             pythoncom           win32lz\n",
      "_random             fileinput           pytz                win32net\n",
      "_sha1               first               pywin               win32netcon\n",
      "_sha2               flask               pywin32_bootstrap   win32pdh\n",
      "_sha3               fnmatch             pywin32_testutil    win32pdhquery\n",
      "_signal             fontTools           pywintypes          win32pdhutil\n",
      "_sitebuiltins       fractions           queue               win32pipe\n",
      "_socket             fsspec              quopri              win32print\n",
      "_sqlite3            ftplib              random              win32process\n",
      "_sre                functools           rasutil             win32profile\n",
      "_ssl                gc                  re                  win32ras\n",
      "_stat               genericpath         regcheck            win32rcparser\n",
      "_statistics         getopt              regutil             win32security\n",
      "_string             getpass             reprlib             win32service\n",
      "_strptime           gettext             rlcompleter         win32serviceutil\n",
      "_struct             glob                runpy               win32timezone\n",
      "_suggestions        graphlib            sched               win32trace\n",
      "_symtable           gzip                scipy               win32traceutil\n",
      "_sysconfig          hashlib             seaborn             win32transaction\n",
      "_testbuffer         heapq               secrets             win32ts\n",
      "_testcapi           hello_world         select              win32ui\n",
      "_testclinic         hmac                selectors           win32uiole\n",
      "_testclinic_limited html                servicemanager      win32verstamp\n",
      "_testconsole        http                shelve              win32wnet\n",
      "_testimportmultiple idlelib             shlex               winerror\n",
      "_testinternalcapi   imaplib             shutil              winioctlcon\n",
      "_testlimitedcapi    importlib           signal              winnt\n",
      "_testmultiphase     inspect             site                winperf\n",
      "_testsinglephase    io                  six                 winreg\n",
      "_thread             ipaddress           sklearn             winsound\n",
      "_threading_local    ipykernel           smtplib             winxpgui\n",
      "_tkinter            ipykernel_launcher  socket              winxptheme\n",
      "_tokenize           ipython_pygments_lexers socketserver        wsgiref\n",
      "_tracemalloc        isapi               sqlite3             xml\n",
      "_typing             itertools           sre_compile         xmlrpc\n",
      "_uuid               itsdangerous        sre_constants       xxsubtype\n",
      "_warnings           jedi                sre_parse           zipapp\n",
      "_weakref            jinja2              ssl                 zipfile\n",
      "_weakrefset         joblib              sspi                zipimport\n",
      "_win32sysloader     json                sspicon             zlib\n",
      "_win32verstamp_pywin32ctypes jupyter             stack_data          zmq\n",
      "_winapi             jupyter_client      start_pythonwin     zoneinfo\n",
      "_winxptheme         jupyter_core        stat                \n",
      "_wmi                keyword             statistics          \n",
      "_zoneinfo           kiwisolver          string              \n",
      "\n",
      "Enter any module name to get more help.  Or, type \"modules spam\" to search\n",
      "for modules whose name or summary contain the string \"spam\".\n",
      "\n"
     ]
    }
   ],
   "source": [
    "help('modules')"
   ]
  },
  {
   "cell_type": "code",
   "execution_count": 24,
   "metadata": {},
   "outputs": [],
   "source": [
    "import random"
   ]
  },
  {
   "cell_type": "code",
   "execution_count": 25,
   "metadata": {},
   "outputs": [],
   "source": [
    "nums = []\n",
    "for i in range(1, 101):\n",
    "    nums.append(random.randint(1, 20))"
   ]
  },
  {
   "cell_type": "code",
   "execution_count": 26,
   "metadata": {},
   "outputs": [
    {
     "data": {
      "text/plain": [
       "[8,\n",
       " 2,\n",
       " 16,\n",
       " 19,\n",
       " 15,\n",
       " 20,\n",
       " 11,\n",
       " 9,\n",
       " 17,\n",
       " 11,\n",
       " 13,\n",
       " 6,\n",
       " 10,\n",
       " 10,\n",
       " 1,\n",
       " 9,\n",
       " 6,\n",
       " 10,\n",
       " 20,\n",
       " 3,\n",
       " 5,\n",
       " 12,\n",
       " 10,\n",
       " 1,\n",
       " 17,\n",
       " 20,\n",
       " 8,\n",
       " 16,\n",
       " 17,\n",
       " 10,\n",
       " 7,\n",
       " 1,\n",
       " 2,\n",
       " 16,\n",
       " 20,\n",
       " 19,\n",
       " 5,\n",
       " 2,\n",
       " 19,\n",
       " 7,\n",
       " 1,\n",
       " 20,\n",
       " 10,\n",
       " 6,\n",
       " 8,\n",
       " 9,\n",
       " 13,\n",
       " 15,\n",
       " 2,\n",
       " 1,\n",
       " 10,\n",
       " 15,\n",
       " 4,\n",
       " 11,\n",
       " 16,\n",
       " 8,\n",
       " 2,\n",
       " 15,\n",
       " 20,\n",
       " 8,\n",
       " 19,\n",
       " 12,\n",
       " 12,\n",
       " 12,\n",
       " 15,\n",
       " 16,\n",
       " 16,\n",
       " 8,\n",
       " 20,\n",
       " 18,\n",
       " 18,\n",
       " 5,\n",
       " 9,\n",
       " 19,\n",
       " 16,\n",
       " 18,\n",
       " 9,\n",
       " 12,\n",
       " 17,\n",
       " 18,\n",
       " 16,\n",
       " 11,\n",
       " 10,\n",
       " 3,\n",
       " 1,\n",
       " 6,\n",
       " 12,\n",
       " 19,\n",
       " 8,\n",
       " 19,\n",
       " 16,\n",
       " 18,\n",
       " 13,\n",
       " 19,\n",
       " 2,\n",
       " 1,\n",
       " 6,\n",
       " 2,\n",
       " 1,\n",
       " 6]"
      ]
     },
     "execution_count": 26,
     "metadata": {},
     "output_type": "execute_result"
    }
   ],
   "source": [
    "nums"
   ]
  },
  {
   "cell_type": "code",
   "execution_count": 27,
   "metadata": {},
   "outputs": [],
   "source": [
    "unique_nums = list(set(nums))"
   ]
  },
  {
   "cell_type": "code",
   "execution_count": 28,
   "metadata": {},
   "outputs": [
    {
     "data": {
      "text/plain": [
       "[1, 2, 3, 4, 5, 6, 7, 8, 9, 10, 11, 12, 13, 15, 16, 17, 18, 19, 20]"
      ]
     },
     "execution_count": 28,
     "metadata": {},
     "output_type": "execute_result"
    }
   ],
   "source": [
    "unique_nums"
   ]
  },
  {
   "cell_type": "code",
   "execution_count": 29,
   "metadata": {},
   "outputs": [
    {
     "data": {
      "text/plain": [
       "dict"
      ]
     },
     "execution_count": 29,
     "metadata": {},
     "output_type": "execute_result"
    }
   ],
   "source": [
    "duck_wins = {'Adam':1, 'Aditya':4, 'Angie':3, 'Arvind':2}\n",
    "type(duck_wins)"
   ]
  },
  {
   "cell_type": "code",
   "execution_count": 30,
   "metadata": {},
   "outputs": [
    {
     "data": {
      "text/plain": [
       "{'Adam': 1, 'Aditya': 4, 'Angie': 3, 'Arvind': 2}"
      ]
     },
     "execution_count": 30,
     "metadata": {},
     "output_type": "execute_result"
    }
   ],
   "source": [
    "duck_wins"
   ]
  },
  {
   "cell_type": "code",
   "execution_count": 31,
   "metadata": {},
   "outputs": [
    {
     "data": {
      "text/plain": [
       "3"
      ]
     },
     "execution_count": 31,
     "metadata": {},
     "output_type": "execute_result"
    }
   ],
   "source": [
    "duck_wins['Angie']"
   ]
  },
  {
   "cell_type": "code",
   "execution_count": 32,
   "metadata": {},
   "outputs": [
    {
     "data": {
      "text/plain": [
       "dict_keys(['Adam', 'Aditya', 'Angie', 'Arvind'])"
      ]
     },
     "execution_count": 32,
     "metadata": {},
     "output_type": "execute_result"
    }
   ],
   "source": [
    "duck_wins.keys()"
   ]
  },
  {
   "cell_type": "code",
   "execution_count": 33,
   "metadata": {},
   "outputs": [
    {
     "data": {
      "text/plain": [
       "dict_values([1, 4, 3, 2])"
      ]
     },
     "execution_count": 33,
     "metadata": {},
     "output_type": "execute_result"
    }
   ],
   "source": [
    "duck_wins.values()"
   ]
  },
  {
   "cell_type": "code",
   "execution_count": 34,
   "metadata": {},
   "outputs": [
    {
     "data": {
      "text/plain": [
       "dict_items([('Adam', 1), ('Aditya', 4), ('Angie', 3), ('Arvind', 2)])"
      ]
     },
     "execution_count": 34,
     "metadata": {},
     "output_type": "execute_result"
    }
   ],
   "source": [
    "duck_wins.items()"
   ]
  },
  {
   "cell_type": "code",
   "execution_count": 35,
   "metadata": {},
   "outputs": [],
   "source": [
    "duck_drill = list(duck_wins.items())"
   ]
  },
  {
   "cell_type": "code",
   "execution_count": 36,
   "metadata": {},
   "outputs": [
    {
     "data": {
      "text/plain": [
       "[('Adam', 1), ('Aditya', 4), ('Angie', 3), ('Arvind', 2)]"
      ]
     },
     "execution_count": 36,
     "metadata": {},
     "output_type": "execute_result"
    }
   ],
   "source": [
    "duck_drill"
   ]
  },
  {
   "cell_type": "code",
   "execution_count": 37,
   "metadata": {},
   "outputs": [
    {
     "name": "stdout",
     "output_type": "stream",
     "text": [
      "Adam has 1 wins!\n",
      "Aditya has 4 wins!\n",
      "Angie has 3 wins!\n",
      "Arvind has 2 wins!\n"
     ]
    }
   ],
   "source": [
    "for score in duck_drill:\n",
    "    print(f'{score[0]} has {score[1]} wins!')"
   ]
  },
  {
   "cell_type": "code",
   "execution_count": 38,
   "metadata": {},
   "outputs": [
    {
     "name": "stdout",
     "output_type": "stream",
     "text": [
      "Adam\n",
      "1\n",
      "\n",
      "Aditya\n",
      "4\n",
      "\n",
      "Angie\n",
      "3\n",
      "\n",
      "Arvind\n",
      "2\n",
      "\n"
     ]
    }
   ],
   "source": [
    "for k, v in duck_wins.items():\n",
    "    print(k)\n",
    "    print(v)\n",
    "    print()"
   ]
  },
  {
   "cell_type": "code",
   "execution_count": 39,
   "metadata": {},
   "outputs": [
    {
     "name": "stdout",
     "output_type": "stream",
     "text": [
      "I'm counting! 0\n",
      "I'm counting! 1\n",
      "I'm counting! 2\n",
      "I'm counting! 3\n",
      "I'm counting! 4\n",
      "I'm counting! 5\n",
      "I'm counting! 6\n"
     ]
    }
   ],
   "source": [
    "start = 0\n",
    "while start < 11:\n",
    "    if start == 7:\n",
    "        break\n",
    "    print(\"I'm counting!\", start)\n",
    "    start += 1"
   ]
  },
  {
   "cell_type": "code",
   "execution_count": 40,
   "metadata": {},
   "outputs": [],
   "source": [
    "odds = [num for num in range(101) if num % 2 == 1]"
   ]
  },
  {
   "cell_type": "code",
   "execution_count": 41,
   "metadata": {},
   "outputs": [
    {
     "data": {
      "text/plain": [
       "[1,\n",
       " 3,\n",
       " 5,\n",
       " 7,\n",
       " 9,\n",
       " 11,\n",
       " 13,\n",
       " 15,\n",
       " 17,\n",
       " 19,\n",
       " 21,\n",
       " 23,\n",
       " 25,\n",
       " 27,\n",
       " 29,\n",
       " 31,\n",
       " 33,\n",
       " 35,\n",
       " 37,\n",
       " 39,\n",
       " 41,\n",
       " 43,\n",
       " 45,\n",
       " 47,\n",
       " 49,\n",
       " 51,\n",
       " 53,\n",
       " 55,\n",
       " 57,\n",
       " 59,\n",
       " 61,\n",
       " 63,\n",
       " 65,\n",
       " 67,\n",
       " 69,\n",
       " 71,\n",
       " 73,\n",
       " 75,\n",
       " 77,\n",
       " 79,\n",
       " 81,\n",
       " 83,\n",
       " 85,\n",
       " 87,\n",
       " 89,\n",
       " 91,\n",
       " 93,\n",
       " 95,\n",
       " 97,\n",
       " 99]"
      ]
     },
     "execution_count": 41,
     "metadata": {},
     "output_type": "execute_result"
    }
   ],
   "source": [
    "odds"
   ]
  },
  {
   "cell_type": "code",
   "execution_count": null,
   "metadata": {},
   "outputs": [],
   "source": []
  }
 ],
 "metadata": {
  "kernelspec": {
   "display_name": "Python 3",
   "language": "python",
   "name": "python3"
  },
  "language_info": {
   "codemirror_mode": {
    "name": "ipython",
    "version": 3
   },
   "file_extension": ".py",
   "mimetype": "text/x-python",
   "name": "python",
   "nbconvert_exporter": "python",
   "pygments_lexer": "ipython3",
   "version": "3.13.5"
  }
 },
 "nbformat": 4,
 "nbformat_minor": 2
}
